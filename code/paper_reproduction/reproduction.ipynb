{
 "cells": [
  {
   "cell_type": "code",
   "execution_count": null,
   "metadata": {},
   "outputs": [],
   "source": [
    "import os\n",
    "import pandas as pd\n",
    "import numpy as np\n",
    "from sklearn.model_selection import KFold\n",
    "from sklearn.ensemble import RandomForestClassifier\n",
    "from sklearn.tree import DecisionTreeClassifier\n",
    "from sklearn.discriminant_analysis import LinearDiscriminantAnalysis\n",
    "from sklearn.metrics import accuracy_score, confusion_matrix, classification_report\n",
    "import matplotlib.pyplot as plt\n",
    "from sklearn.model_selection import train_test_split\n"
   ]
  },
  {
   "cell_type": "code",
   "execution_count": 2,
   "metadata": {},
   "outputs": [
    {
     "name": "stdout",
     "output_type": "stream",
     "text": [
      "Loaded 1421 samples with columns: ['Gender', 'Hemoglobin', 'MCH', 'MCHC', 'MCV', 'Result', 'AnemiaFlag', 'Target']\n"
     ]
    },
    {
     "data": {
      "text/html": [
       "<div>\n",
       "<style scoped>\n",
       "    .dataframe tbody tr th:only-of-type {\n",
       "        vertical-align: middle;\n",
       "    }\n",
       "\n",
       "    .dataframe tbody tr th {\n",
       "        vertical-align: top;\n",
       "    }\n",
       "\n",
       "    .dataframe thead th {\n",
       "        text-align: right;\n",
       "    }\n",
       "</style>\n",
       "<table border=\"1\" class=\"dataframe\">\n",
       "  <thead>\n",
       "    <tr style=\"text-align: right;\">\n",
       "      <th></th>\n",
       "      <th>Gender</th>\n",
       "      <th>Hemoglobin</th>\n",
       "      <th>MCH</th>\n",
       "      <th>MCHC</th>\n",
       "      <th>MCV</th>\n",
       "      <th>Result</th>\n",
       "      <th>AnemiaFlag</th>\n",
       "      <th>Target</th>\n",
       "    </tr>\n",
       "  </thead>\n",
       "  <tbody>\n",
       "    <tr>\n",
       "      <th>0</th>\n",
       "      <td>1</td>\n",
       "      <td>14.9</td>\n",
       "      <td>22.7</td>\n",
       "      <td>29.1</td>\n",
       "      <td>83.7</td>\n",
       "      <td>0</td>\n",
       "      <td>0</td>\n",
       "      <td>0</td>\n",
       "    </tr>\n",
       "    <tr>\n",
       "      <th>1</th>\n",
       "      <td>0</td>\n",
       "      <td>15.9</td>\n",
       "      <td>25.4</td>\n",
       "      <td>28.3</td>\n",
       "      <td>72.0</td>\n",
       "      <td>0</td>\n",
       "      <td>0</td>\n",
       "      <td>0</td>\n",
       "    </tr>\n",
       "    <tr>\n",
       "      <th>2</th>\n",
       "      <td>0</td>\n",
       "      <td>9.0</td>\n",
       "      <td>21.5</td>\n",
       "      <td>29.6</td>\n",
       "      <td>71.2</td>\n",
       "      <td>1</td>\n",
       "      <td>1</td>\n",
       "      <td>1</td>\n",
       "    </tr>\n",
       "    <tr>\n",
       "      <th>3</th>\n",
       "      <td>0</td>\n",
       "      <td>14.9</td>\n",
       "      <td>16.0</td>\n",
       "      <td>31.4</td>\n",
       "      <td>87.5</td>\n",
       "      <td>0</td>\n",
       "      <td>0</td>\n",
       "      <td>0</td>\n",
       "    </tr>\n",
       "    <tr>\n",
       "      <th>4</th>\n",
       "      <td>1</td>\n",
       "      <td>14.7</td>\n",
       "      <td>22.0</td>\n",
       "      <td>28.2</td>\n",
       "      <td>99.5</td>\n",
       "      <td>0</td>\n",
       "      <td>0</td>\n",
       "      <td>0</td>\n",
       "    </tr>\n",
       "  </tbody>\n",
       "</table>\n",
       "</div>"
      ],
      "text/plain": [
       "   Gender  Hemoglobin   MCH  MCHC   MCV  Result  AnemiaFlag  Target\n",
       "0       1        14.9  22.7  29.1  83.7       0           0       0\n",
       "1       0        15.9  25.4  28.3  72.0       0           0       0\n",
       "2       0         9.0  21.5  29.6  71.2       1           1       1\n",
       "3       0        14.9  16.0  31.4  87.5       0           0       0\n",
       "4       1        14.7  22.0  28.2  99.5       0           0       0"
      ]
     },
     "execution_count": 2,
     "metadata": {},
     "output_type": "execute_result"
    }
   ],
   "source": [
    "DATA_PATH = \"/Users/jubyaiduddin/Downloads/Senior_design/paper_reproduction/data/anemia.csv\"\n",
    "def load_and_clean(path=DATA_PATH):\n",
    "    df = pd.read_csv(path, index_col=False)\n",
    "    df.columns = df.columns.str.strip()\n",
    "    # keep raw features + original Result\n",
    "    df = df[[\"Gender\", \"Hemoglobin\", \"MCH\", \"MCHC\", \"MCV\", \"Result\"]]\n",
    "    # ensure Gender is numeric: 0 = male, 1 = female\n",
    "    df[\"Gender\"] = pd.to_numeric(df[\"Gender\"], errors=\"raise\")\n",
    "    # recompute binary anemia flag per paper:\n",
    "    # male (0): HGB < 13.6 → anemic; female (1): HGB < 12.0 → anemic\n",
    "    df[\"AnemiaFlag\"] = (\n",
    "        ((df[\"Gender\"] == 0) & (df[\"Hemoglobin\"] < 13.6)) |\n",
    "        ((df[\"Gender\"] == 1) & (df[\"Hemoglobin\"] < 12.0))\n",
    "    ).astype(int)\n",
    "    # derive 4-class Target per Table 3 & 4\n",
    "    def to_target(r):\n",
    "        if r[\"AnemiaFlag\"] == 0:\n",
    "            return 0  # no anemia\n",
    "        if r[\"MCV\"] < 80:\n",
    "            return 1  # microcytic\n",
    "        elif r[\"MCV\"] <= 100:\n",
    "            return 2  # normocytic\n",
    "        else:\n",
    "            return 3  # macrocytic\n",
    "    df[\"Target\"] = df.apply(to_target, axis=1)\n",
    "    # drop helper columns\n",
    "    #df = df.drop(columns=[\"Result\", \"AnemiaFlag\"])\n",
    "    # fill any remaining missing values\n",
    "    if df.isnull().any().any():\n",
    "        df = df.fillna(df.mean())\n",
    "    return df\n",
    "\n",
    "# load & inspect\n",
    "df = load_and_clean()\n",
    "print(f\"Loaded {df.shape[0]} samples with columns: {df.columns.tolist()}\")\n",
    "df.head()"
   ]
  },
  {
   "cell_type": "code",
   "execution_count": 12,
   "metadata": {},
   "outputs": [],
   "source": [
    "df.to_csv('processed_anemia_data.csv', index= False)"
   ]
  },
  {
   "cell_type": "code",
   "execution_count": 3,
   "metadata": {},
   "outputs": [
    {
     "name": "stdout",
     "output_type": "stream",
     "text": [
      "\n",
      "Feature summary (mean, min, max):\n",
      "      Hemoglobin         MCV       MCH       MCHC\n",
      "mean   13.412738   85.523786  22.90563  30.251232\n",
      "min     6.600000   69.400000  16.00000  27.800000\n",
      "max    16.900000  101.600000  30.00000  32.500000\n",
      "\n",
      "4-class distribution (0=no,1=micro,2=normo,3=macro):\n",
      "Target\n",
      "0    857\n",
      "1    175\n",
      "2    341\n",
      "3     48\n",
      "Name: count, dtype: int64\n"
     ]
    }
   ],
   "source": [
    "print(\"\\nFeature summary (mean, min, max):\")\n",
    "print(df[[\"Hemoglobin\",\"MCV\",\"MCH\",\"MCHC\"]]\n",
    "      .describe().loc[[\"mean\",\"min\",\"max\"]])\n",
    "print(\"\\n4-class distribution (0=no,1=micro,2=normo,3=macro):\")\n",
    "print(df[\"Target\"].value_counts().sort_index())"
   ]
  },
  {
   "cell_type": "code",
   "execution_count": 4,
   "metadata": {},
   "outputs": [],
   "source": [
    "X = df[[\"Gender\",\"Hemoglobin\",\"MCV\",\"MCH\",\"MCHC\"]]\n",
    "y = df[\"Target\"]"
   ]
  },
  {
   "cell_type": "code",
   "execution_count": 5,
   "metadata": {},
   "outputs": [],
   "source": [
    "#  5-fold CV to reproduce Table 5\n",
    "kf = KFold(n_splits=5, shuffle=True, random_state=42)\n",
    "models = {\n",
    "    \"RandomForest\": RandomForestClassifier(n_estimators=100, random_state=42),\n",
    "    \"DecisionTree\": DecisionTreeClassifier(random_state=42),\n",
    "    \"LDA\": LinearDiscriminantAnalysis()\n",
    "}"
   ]
  },
  {
   "cell_type": "code",
   "execution_count": 6,
   "metadata": {},
   "outputs": [
    {
     "name": "stdout",
     "output_type": "stream",
     "text": [
      "RandomForest:\n",
      "  Score 1: 1.00000000\n",
      "  Score 2: 1.00000000\n",
      "  Score 3: 1.00000000\n",
      "  Score 4: 1.00000000\n",
      "  Score 5: 1.00000000\n",
      "  Mean: 1.00000000\n",
      "  Std:  0.00000000\n",
      "\n",
      "DecisionTree:\n",
      "  Score 1: 1.00000000\n",
      "  Score 2: 1.00000000\n",
      "  Score 3: 1.00000000\n",
      "  Score 4: 0.99647887\n",
      "  Score 5: 1.00000000\n",
      "  Mean: 0.99929577\n",
      "  Std:  0.00157470\n",
      "\n",
      "LDA:\n",
      "  Score 1: 0.91929825\n",
      "  Score 2: 0.92957746\n",
      "  Score 3: 0.91901408\n",
      "  Score 4: 0.93661972\n",
      "  Score 5: 0.90492958\n",
      "  Mean: 0.92188782\n",
      "  Std:  0.01202815\n",
      "\n"
     ]
    }
   ],
   "source": [
    "cv_results = {}\n",
    "for name, clf in models.items():\n",
    "    scores = []\n",
    "    for train_idx, test_idx in kf.split(X):\n",
    "        clf.fit(X.iloc[train_idx], y.iloc[train_idx])\n",
    "        preds = clf.predict(X.iloc[test_idx])\n",
    "        scores.append(accuracy_score(y.iloc[test_idx], preds))\n",
    "    cv_results[name] = np.array(scores)\n",
    "    print(f\"{name}:\")\n",
    "    for i, s in enumerate(scores, 1):\n",
    "        print(f\"  Score {i}: {s:.8f}\")\n",
    "    print(f\"  Mean: {cv_results[name].mean():.8f}\")\n",
    "    print(f\"  Std:  {cv_results[name].std(ddof=1):.8f}\\n\")\n"
   ]
  },
  {
   "cell_type": "code",
   "execution_count": null,
   "metadata": {},
   "outputs": [],
   "source": [
    "# 1) UPDATES  Split 80% train / 20% test\n",
    "X_train, X_test, y_train, y_test = train_test_split(\n",
    "    X, y,\n",
    "    test_size=0.20,\n",
    "    random_state=42,\n",
    "    stratify=y\n",
    ")\n",
    "\n",
    "# 2) Train RandomForest on the 80% training set\n",
    "rf = RandomForestClassifier(n_estimators=100, random_state=42)\n",
    "rf.fit(X_train, y_train)\n",
    "\n",
    "# 3) Predict on the 20% test set\n",
    "y_pred = rf.predict(X_test)\n",
    "\n",
    "# 4) Compute confusion matrix on the test set only\n",
    "cm = confusion_matrix(y_test, y_pred, labels=[0,1,2,3])\n",
    "\n",
    "print(\"Confusion Matrix (80/20 hold-out):\")\n",
    "print(cm)\n",
    "\n",
    "# 5) Detailed per-class metrics\n",
    "print(\"\\nClassification Report (on test set):\")\n",
    "print(classification_report(\n",
    "    y_test, y_pred,\n",
    "    labels=[0,1,2,3],\n",
    "    target_names=[\"No\", \"Micro\", \"Normo\", \"Macro\"]\n",
    "))"
   ]
  },
  {
   "cell_type": "code",
   "execution_count": null,
   "metadata": {},
   "outputs": [
    {
     "name": "stdout",
     "output_type": "stream",
     "text": [
      "Confusion Matrix (full-data):\n",
      "[[857   0   0   0]\n",
      " [  0 175   0   0]\n",
      " [  0   0 341   0]\n",
      " [  0   0   0  48]]\n",
      "\n",
      "Classification Report:\n",
      "              precision    recall  f1-score   support\n",
      "\n",
      "          No       1.00      1.00      1.00       857\n",
      "       Micro       1.00      1.00      1.00       175\n",
      "       Normo       1.00      1.00      1.00       341\n",
      "       Macro       1.00      1.00      1.00        48\n",
      "\n",
      "    accuracy                           1.00      1421\n",
      "   macro avg       1.00      1.00      1.00      1421\n",
      "weighted avg       1.00      1.00      1.00      1421\n",
      "\n"
     ]
    }
   ],
   "source": [
    "# rf = RandomForestClassifier(n_estimators=100, random_state=42)\n",
    "# rf.fit(X, y)\n",
    "# y_pred = rf.predict(X)\n",
    "# cm = confusion_matrix(y, y_pred, labels=[0,1,2,3])\n",
    "\n",
    "# print(\"Confusion Matrix (full-data):\")\n",
    "# print(cm)\n",
    "# print(\"\\nClassification Report:\")\n",
    "# print(classification_report(\n",
    "#     y, y_pred,\n",
    "#     labels=[0,1,2,3],\n",
    "#     target_names=[\"No\",\"Micro\",\"Normo\",\"Macro\"]\n",
    "# ))"
   ]
  },
  {
   "cell_type": "code",
   "execution_count": 10,
   "metadata": {},
   "outputs": [
    {
     "name": "stderr",
     "output_type": "stream",
     "text": [
      "/var/folders/8m/qg941k596ljfzwjkrwdhd8kw0000gn/T/ipykernel_68718/295945096.py:11: MatplotlibDeprecationWarning: The 'labels' parameter of boxplot() has been renamed 'tick_labels' since Matplotlib 3.9; support for the old name will be dropped in 3.11.\n",
      "  bp = plt.boxplot(\n"
     ]
    },
    {
     "data": {
      "image/png": "[encoded data removed]",
      "text/plain": [
       "<Figure size 600x400 with 1 Axes>"
      ]
     },
     "metadata": {},
     "output_type": "display_data"
    }
   ],
   "source": [
    "plt.figure(figsize=(6, 4))\n",
    "\n",
    "# Prepare data in the order RandomForest, DecisionTree, LDA\n",
    "data = [\n",
    "    cv_results[\"RandomForest\"],\n",
    "    cv_results[\"DecisionTree\"],\n",
    "    cv_results[\"LDA\"]\n",
    "]\n",
    "\n",
    "# Create boxplot\n",
    "bp = plt.boxplot(\n",
    "    data,\n",
    "    labels=[\"RandomForest\", \"DecisionTree\", \"LDA\"],\n",
    "    patch_artist=True,      # to allow facecolor\n",
    "    showmeans=True,         # show the mean marker\n",
    "    meanprops=dict(\n",
    "        marker='^',         # match paper’s little red triangle\n",
    "        markerfacecolor='red',\n",
    "        markeredgecolor='black'\n",
    "    ),\n",
    "    medianprops=dict(color='black'),\n",
    "    whiskerprops=dict(color='black'),\n",
    "    capprops=dict(color='black'),\n",
    "    boxprops=dict(facecolor='orange', color='black')\n",
    ")\n",
    "\n",
    "plt.ylim(0.90, 1.01)\n",
    "plt.ylabel(\"Score\")\n",
    "plt.title(\"Box-and-Whisker Plot of Model Scores\\n(Figure 4 Reproduction)\")\n",
    "plt.grid(axis='y', linestyle='--', linewidth=0.5, alpha=0.7)\n",
    "plt.tight_layout()\n",
    "plt.show()"
   ]
  },
  {
   "cell_type": "code",
   "execution_count": 11,
   "metadata": {},
   "outputs": [
    {
     "data": {
      "image/png": "[encoded data removed]",
      "text/plain": [
       "<Figure size 500x400 with 2 Axes>"
      ]
     },
     "metadata": {},
     "output_type": "display_data"
    }
   ],
   "source": [
    "# %% Cell 10 — Annotated Confusion-Matrix Heatmap (Figure 5 Reproduction)\n",
    "\n",
    "plt.figure(figsize=(5, 4))\n",
    "cmap = plt.cm.Blues\n",
    "\n",
    "# Display the heatmap\n",
    "plt.imshow(cm, interpolation=\"nearest\", cmap=cmap, aspect='auto')\n",
    "plt.title(\"Confusion Matrix\\n(Figure 5 Reproduction)\")\n",
    "plt.colorbar()\n",
    "\n",
    "# Tick labels\n",
    "class_labels = [\"Class 1\", \"Class 2\", \"Class 3\", \"Class 4\"]\n",
    "plt.xticks(np.arange(4), class_labels, rotation=45)\n",
    "plt.yticks(np.arange(4), class_labels)\n",
    "\n",
    "# Annotate each cell with the count\n",
    "thresh = cm.max() / 2.0\n",
    "for i in range(cm.shape[0]):\n",
    "    for j in range(cm.shape[1]):\n",
    "        plt.text(\n",
    "            j, i, f\"{cm[i, j]}\",\n",
    "            ha=\"center\", va=\"center\",\n",
    "            color=\"white\" if cm[i, j] > thresh else \"black\",\n",
    "            fontsize=12\n",
    "        )\n",
    "\n",
    "plt.ylabel(\"True Label\")\n",
    "plt.xlabel(\"Predicted Label\")\n",
    "plt.tight_layout()\n",
    "plt.show()\n",
    "\n",
    "\n",
    "# Plotted Label | Underlying Code | Meaning\n",
    "# Class 1       |               0 | No anemia\n",
    "# Class 2       |               1 | Microcytic anemia (MCV < 80)\n",
    "# Class 3       |               2 | Normocytic anemia (80 ≤ MCV ≤ 100)\n",
    "# Class 4       |               3 | Macrocytic anemia (MCV > 100)\n",
    "\n",
    "\n",
    "# Rows = True class\n",
    "\n",
    "# Columns = Predicted class\n",
    "\n",
    "# The cell at row i, column j shows how many samples of true class i were predicted as class j.\n",
    "\n",
    "# E.g. the top-left cell “162” means 162 no-anemia cases (Class 1) were correctly predicted as no-anemia.\n",
    "\n",
    "# Because all off-diagonal cells are zero, every sample was classified into its correct category."
   ]
  }
 ],
 "metadata": {
  "kernelspec": {
   "display_name": "college",
   "language": "python",
   "name": "python3"
  },
  "language_info": {
   "codemirror_mode": {
    "name": "ipython",
    "version": 3
   },
   "file_extension": ".py",
   "mimetype": "text/x-python",
   "name": "python",
   "nbconvert_exporter": "python",
   "pygments_lexer": "ipython3",
   "version": "3.13.2"
  }
 },
 "nbformat": 4,
 "nbformat_minor": 2
}
